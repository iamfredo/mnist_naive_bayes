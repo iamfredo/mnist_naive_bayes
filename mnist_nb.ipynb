{
 "cells": [
  {
   "cell_type": "code",
   "execution_count": 1,
   "source": [
    "import pandas as pd\r\n",
    "import numpy as np\r\n",
    "import matplotlib.pyplot as plt\r\n",
    "import seaborn as sns\r\n",
    "\r\n",
    "import keras\r\n",
    "\r\n",
    "from keras.datasets import mnist"
   ],
   "outputs": [],
   "metadata": {
    "collapsed": false,
    "pycharm": {
     "name": "#%%\n"
    }
   }
  },
  {
   "cell_type": "code",
   "execution_count": 2,
   "source": [
    "# (X_train, y_train), (X_test, y_test) = mnist.load_data()\r\n",
    "train_df = pd.read_csv(\"data/mnist_train.csv\")\r\n",
    "test_df = pd.read_csv(\"data/mnist_test.csv\")"
   ],
   "outputs": [],
   "metadata": {
    "collapsed": false,
    "pycharm": {
     "name": "#%%\n"
    }
   }
  },
  {
   "cell_type": "code",
   "execution_count": 3,
   "source": [
    "X_train = train_df.drop(\"label\", axis=1).values.reshape(60000, 28,28)\r\n",
    "X_test = test_df.drop(\"label\", axis=1).values.reshape(10000, 28,28)\r\n",
    "y_train = train_df[\"label\"]\r\n",
    "y_test = test_df[\"label\"]"
   ],
   "outputs": [],
   "metadata": {
    "collapsed": false,
    "pycharm": {
     "name": "#%%\n"
    }
   }
  },
  {
   "cell_type": "code",
   "execution_count": 4,
   "source": [
    "X_train.shape"
   ],
   "outputs": [
    {
     "output_type": "execute_result",
     "data": {
      "text/plain": [
       "(60000, 28, 28)"
      ]
     },
     "metadata": {},
     "execution_count": 4
    }
   ],
   "metadata": {
    "collapsed": false,
    "pycharm": {
     "name": "#%%\n"
    }
   }
  },
  {
   "cell_type": "markdown",
   "source": [
    "## Class Probabilities"
   ],
   "metadata": {
    "collapsed": false,
    "pycharm": {
     "name": "#%% md\n"
    }
   }
  },
  {
   "cell_type": "code",
   "execution_count": 5,
   "source": [
    "y_count = np.zeros(10)\r\n",
    "for label in y_train:\r\n",
    "    y_count[label] += 1\r\n",
    "\r\n",
    "print(\"y_counts: \", y_count, y_count.sum(), \"\\n\")\r\n",
    "\r\n",
    "# Probabilities per Label\r\n",
    "label_probs = y_count/y_count.sum()*100\r\n",
    "for i in range(10):\r\n",
    "    print(f\"Probability for Class {i}: {label_probs[i]:.2f} %\")"
   ],
   "outputs": [
    {
     "output_type": "stream",
     "name": "stdout",
     "text": [
      "y_counts:  [5923. 6742. 5958. 6131. 5842. 5421. 5918. 6265. 5851. 5949.] 60000.0 \n",
      "\n",
      "Probability for Class 0: 9.87 %\n",
      "Probability for Class 1: 11.24 %\n",
      "Probability for Class 2: 9.93 %\n",
      "Probability for Class 3: 10.22 %\n",
      "Probability for Class 4: 9.74 %\n",
      "Probability for Class 5: 9.04 %\n",
      "Probability for Class 6: 9.86 %\n",
      "Probability for Class 7: 10.44 %\n",
      "Probability for Class 8: 9.75 %\n",
      "Probability for Class 9: 9.92 %\n"
     ]
    }
   ],
   "metadata": {
    "collapsed": false,
    "pycharm": {
     "name": "#%%\n"
    }
   }
  },
  {
   "cell_type": "code",
   "execution_count": 6,
   "source": [
    "fig, ax = plt.subplots(1, 10, figsize=(12,12))\r\n",
    "for i in range(10):\r\n",
    "    ax[i].imshow(X_train[i], cmap=\"hot\")\r\n",
    "plt.show()"
   ],
   "outputs": [
    {
     "output_type": "display_data",
     "data": {
      "image/png": "[encoded data removed]",
      "text/plain": [
       "<Figure size 864x864 with 10 Axes>"
      ]
     },
     "metadata": {
      "needs_background": "light"
     }
    }
   ],
   "metadata": {
    "collapsed": false,
    "pycharm": {
     "name": "#%%\n"
    }
   }
  },
  {
   "cell_type": "code",
   "execution_count": 7,
   "source": [
    "X_train.shape\r\n"
   ],
   "outputs": [
    {
     "output_type": "execute_result",
     "data": {
      "text/plain": [
       "(60000, 28, 28)"
      ]
     },
     "metadata": {},
     "execution_count": 7
    }
   ],
   "metadata": {
    "collapsed": false,
    "pycharm": {
     "name": "#%%\n"
    }
   }
  },
  {
   "cell_type": "code",
   "execution_count": 8,
   "source": [
    "X_test.shape"
   ],
   "outputs": [
    {
     "output_type": "execute_result",
     "data": {
      "text/plain": [
       "(10000, 28, 28)"
      ]
     },
     "metadata": {},
     "execution_count": 8
    }
   ],
   "metadata": {
    "collapsed": false,
    "pycharm": {
     "name": "#%%\n"
    }
   }
  },
  {
   "cell_type": "markdown",
   "source": [
    "## Train"
   ],
   "metadata": {
    "collapsed": false,
    "pycharm": {
     "name": "#%% md\n"
    }
   }
  },
  {
   "cell_type": "code",
   "execution_count": 9,
   "source": [
    "from sklearn import naive_bayes\r\n",
    "from sklearn.metrics import confusion_matrix\r\n",
    "from sklearn.model_selection import GridSearchCV, KFold\r\n",
    "\r\n",
    "def test_methods(model_selection: list,\r\n",
    "                 X_train_2d, y_train,\r\n",
    "                 X_test_2d, y_test) -> None:\r\n",
    "    for method in model_selection:\r\n",
    "        print(str(method.__name__).upper(), \"\\n\")\r\n",
    "        nb = method()\r\n",
    "\r\n",
    "        # params_NB = {'var_smoothing': np.logspace(0,-9, num=100)}\r\n",
    "        \"\"\"\r\n",
    "        gs_NB = GridSearchCV(estimator=nb,\r\n",
    "        param_grid=params_NB,\r\n",
    "                     cv=KFold,   # use any cross validation technique\r\n",
    "                     verbose=1,\r\n",
    "                     scoring='accuracy')\r\n",
    "        \"\"\"\r\n",
    "\r\n",
    "        nb.fit(X_train_2d, y_train)\r\n",
    "        pred = nb.predict(X_test_2d)\r\n",
    "        score = nb.score(X_test_2d, y_test)\r\n",
    "        print(\"Test accuracy: \", score, \"\\n\")\r\n",
    "        print(confusion_matrix(pred, y_test))\r\n",
    "\r\n",
    "        print(\"\\n\\n\")"
   ],
   "outputs": [],
   "metadata": {
    "collapsed": false,
    "pycharm": {
     "name": "#%%\n"
    }
   }
  },
  {
   "cell_type": "code",
   "execution_count": 10,
   "source": [
    "X_train_2d = X_train.reshape((60000, 784))\r\n",
    "X_test_2d = X_test.reshape((10000, 784))\r\n",
    "\r\n",
    "methods = [naive_bayes.MultinomialNB, naive_bayes.GaussianNB, naive_bayes.BernoulliNB]\r\n",
    "test_methods(methods, X_train_2d, y_train, X_test_2d, y_test)"
   ],
   "outputs": [
    {
     "output_type": "stream",
     "name": "stdout",
     "text": [
      "MULTINOMIALNB \n",
      "\n",
      "Test accuracy:  0.8365 \n",
      "\n",
      "[[ 912    0   15    4    2   23   17    1    6    6]\n",
      " [   0 1061   11   11    2   11   13   21   26    7]\n",
      " [   2    5  858   34    6    6   17   11   13    3]\n",
      " [   6    9   24  851    0  107    1    5   54   10]\n",
      " [   1    0   10    1  732   18    7   19   14   66]\n",
      " [   8    2    3   21    0  590   25    0   27   10]\n",
      " [  14    6   33    7   25   17  860    1    8    0]\n",
      " [   1    0   11   14    1    6    0  861    9   17]\n",
      " [  36   51   66   40   38   78   18   40  777   27]\n",
      " [   0    1    1   27  176   36    0   69   40  863]]\n",
      "\n",
      "\n",
      "\n",
      "GAUSSIANNB \n",
      "\n",
      "Test accuracy:  0.5558 \n",
      "\n",
      "[[ 870    0   79   32   19   71   12    0   13    5]\n",
      " [   0 1079   25   39    2   25   12   15   72    7]\n",
      " [   3    2  266    6    5    1    3    2    3    3]\n",
      " [   5    1   91  353    4   20    1   10    7    6]\n",
      " [   2    0    5    2  168    3    1    5    3    1]\n",
      " [   5    0    2    3    7   44    7    1   11    0]\n",
      " [  31   10  269   51   63   40  895    5   12    1]\n",
      " [   1    0    4    8    7    2    0  280    4   13]\n",
      " [  35   38  271  409  210  586   26   39  648   18]\n",
      " [  28    5   20  107  497  100    1  671  201  955]]\n",
      "\n",
      "\n",
      "\n",
      "BERNOULLINB \n",
      "\n",
      "Test accuracy:  0.8413 \n",
      "\n",
      "[[ 887    0   19    5    2   23   18    1   16    9]\n",
      " [   0 1085    8   15    6   12   18   24   23   13]\n",
      " [   4   10  852   34    4    7   15   14   13    5]\n",
      " [   7    5   29  844    0  129    2    4   76    9]\n",
      " [   2    0   17    0  795   30   13   15   17   74]\n",
      " [  41    9    4   13    4  627   35    0   22    8]\n",
      " [  16    6   32    9   21   16  851    0    7    0]\n",
      " [   1    0   14   15    1    8    0  871    6   24]\n",
      " [  22   19   55   49   23   21    6   27  758   24]\n",
      " [   0    1    2   26  126   19    0   72   36  843]]\n",
      "\n",
      "\n",
      "\n"
     ]
    }
   ],
   "metadata": {
    "collapsed": false,
    "pycharm": {
     "name": "#%%\n"
    }
   }
  },
  {
   "cell_type": "code",
   "execution_count": 11,
   "source": [
    "\"\"\" \r\n",
    "from sklearn.pipeline import Pipeline\r\n",
    "from sklearn.decomposition import PCA\r\n",
    "from sklearn.model_selection import GridSearchCV\r\n",
    "\r\n",
    "\r\n",
    "methods = [naive_bayes.GaussianNB]\r\n",
    "\r\n",
    "X_train_2d = X_train.reshape((60000, 784))\r\n",
    "X_test_2d = X_test.reshape((10000, 784))\r\n",
    "\r\n",
    "for model in methods:\r\n",
    "    print(str(model.__name__).upper(), \"\\n\")\r\n",
    "    nb = model()\r\n",
    "\r\n",
    "    pipe = Pipeline(steps=[\r\n",
    "                        ('pca', PCA()),\r\n",
    "                        ('estimator', nb),\r\n",
    "                        ])\r\n",
    "\r\n",
    "    parameters = {'estimator__var_smoothing': [1e-2, 1e-1, 1, 2]}\r\n",
    "    Bayes = GridSearchCV(pipe, parameters, scoring='accuracy', cv=10).fit(X_train_2d, y_train)\r\n",
    "\r\n",
    "    print(Bayes.best_estimator_)\r\n",
    "    print('best score:')\r\n",
    "    print(Bayes.best_score_)\r\n",
    "    predictions = Bayes.best_estimator_.predict(X_test_2d)\r\n",
    "\r\n",
    "    pred = Bayes.predict(X_test_2d)\r\n",
    "    score = Bayes.score(X_test_2d, y_test)\r\n",
    "    print(\"Test accuracy: \", score, \"\\n\")\r\n",
    "    print(confusion_matrix(pred, y_test))\r\n",
    "\r\n",
    "    print(\"\\n\\n\")\r\n",
    "\"\"\""
   ],
   "outputs": [
    {
     "output_type": "execute_result",
     "data": {
      "text/plain": [
       "' \\nfrom sklearn.pipeline import Pipeline\\nfrom sklearn.decomposition import PCA\\nfrom sklearn.model_selection import GridSearchCV\\n\\n\\nmethods = [naive_bayes.GaussianNB]\\n\\nX_train_2d = X_train.reshape((60000, 784))\\nX_test_2d = X_test.reshape((10000, 784))\\n\\nfor model in methods:\\n    print(str(model.__name__).upper(), \"\\n\")\\n    nb = model()\\n\\n    pipe = Pipeline(steps=[\\n                        (\\'pca\\', PCA()),\\n                        (\\'estimator\\', nb),\\n                        ])\\n\\n    parameters = {\\'estimator__var_smoothing\\': [1e-2, 1e-1, 1, 2]}\\n    Bayes = GridSearchCV(pipe, parameters, scoring=\\'accuracy\\', cv=10).fit(X_train_2d, y_train)\\n\\n    print(Bayes.best_estimator_)\\n    print(\\'best score:\\')\\n    print(Bayes.best_score_)\\n    predictions = Bayes.best_estimator_.predict(X_test_2d)\\n\\n    pred = Bayes.predict(X_test_2d)\\n    score = Bayes.score(X_test_2d, y_test)\\n    print(\"Test accuracy: \", score, \"\\n\")\\n    print(confusion_matrix(pred, y_test))\\n\\n    print(\"\\n\\n\")\\n'"
      ]
     },
     "metadata": {},
     "execution_count": 11
    }
   ],
   "metadata": {
    "collapsed": false,
    "pycharm": {
     "name": "#%%\n"
    }
   }
  },
  {
   "cell_type": "code",
   "execution_count": null,
   "source": [],
   "outputs": [],
   "metadata": {
    "pycharm": {
     "name": "#%%\n"
    }
   }
  },
  {
   "cell_type": "markdown",
   "source": [
    "# Improving Accuracy"
   ],
   "metadata": {
    "tags": [],
    "pycharm": {
     "name": "#%% md\n"
    }
   }
  },
  {
   "cell_type": "code",
   "execution_count": 12,
   "source": [
    "import cv2"
   ],
   "outputs": [],
   "metadata": {}
  },
  {
   "cell_type": "code",
   "execution_count": 13,
   "source": [
    "p = np.array(X_train[9], dtype=\"uint8\")\r\n",
    "p = p.reshape((28,28))\r\n",
    "plt.imshow(p, cmap=\"hot\")"
   ],
   "outputs": [
    {
     "output_type": "execute_result",
     "data": {
      "text/plain": [
       "<matplotlib.image.AxesImage at 0x1561e124e88>"
      ]
     },
     "metadata": {},
     "execution_count": 13
    },
    {
     "output_type": "display_data",
     "data": {
      "image/png": "[encoded data removed]",
      "text/plain": [
       "<Figure size 432x288 with 1 Axes>"
      ]
     },
     "metadata": {
      "needs_background": "light"
     }
    }
   ],
   "metadata": {}
  },
  {
   "cell_type": "code",
   "execution_count": 14,
   "source": [
    "for i in range(3):\r\n",
    "    p = np.array(X_train[i], dtype=\"uint8\")\r\n",
    "    p = p.reshape((28,28))\r\n",
    "    x,y,w,h = cv2.boundingRect(p)\r\n",
    "    img1 = p[y:(y+h), x:(x+w)]\r\n",
    "    imgResized = cv2.resize(img1, (20,20))\r\n",
    "    plt.imshow(imgResized, cmap='hot')\r\n",
    "    plt.show()"
   ],
   "outputs": [
    {
     "output_type": "display_data",
     "data": {
      "image/png": "[encoded data removed]",
      "text/plain": [
       "<Figure size 432x288 with 1 Axes>"
      ]
     },
     "metadata": {
      "needs_background": "light"
     }
    },
    {
     "output_type": "display_data",
     "data": {
      "image/png": "[encoded data removed]",
      "text/plain": [
       "<Figure size 432x288 with 1 Axes>"
      ]
     },
     "metadata": {
      "needs_background": "light"
     }
    },
    {
     "output_type": "display_data",
     "data": {
      "image/png": "[encoded data removed]",
      "text/plain": [
       "<Figure size 432x288 with 1 Axes>"
      ]
     },
     "metadata": {
      "needs_background": "light"
     }
    }
   ],
   "metadata": {}
  },
  {
   "cell_type": "code",
   "execution_count": 15,
   "source": [
    "def reduce_bl_pixels(dataset):\r\n",
    "  my_arr = []\r\n",
    "  for elem in dataset:\r\n",
    "    p = np.array(elem, dtype=\"uint8\")\r\n",
    "    # p = elem\r\n",
    "    p = p.reshape((28,28))\r\n",
    "    x,y,w,h = cv2.boundingRect(p)\r\n",
    "    img1 = p[y:(y+h), x:(x+w)]\r\n",
    "    imgResized = cv2.resize(img1, (20,20))\r\n",
    "    my_arr.append(imgResized)\r\n",
    "  return my_arr\r\n"
   ],
   "outputs": [],
   "metadata": {}
  },
  {
   "cell_type": "code",
   "execution_count": 16,
   "source": [
    "X_train_crop = reduce_bl_pixels(X_train)\r\n",
    "X_test_crop = reduce_bl_pixels(X_test)"
   ],
   "outputs": [],
   "metadata": {
    "collapsed": false,
    "pycharm": {
     "name": "#%%\n"
    }
   }
  },
  {
   "cell_type": "code",
   "execution_count": 17,
   "source": [
    "X_train_new = np.array(X_train_crop)\r\n",
    "X_test_new = np.array(X_test_crop)"
   ],
   "outputs": [],
   "metadata": {
    "collapsed": false,
    "pycharm": {
     "name": "#%%\n"
    }
   }
  },
  {
   "cell_type": "code",
   "execution_count": 18,
   "source": [
    "X_train_new[0].shape"
   ],
   "outputs": [
    {
     "output_type": "execute_result",
     "data": {
      "text/plain": [
       "(20, 20)"
      ]
     },
     "metadata": {},
     "execution_count": 18
    }
   ],
   "metadata": {
    "collapsed": false,
    "pycharm": {
     "name": "#%%\n"
    }
   }
  },
  {
   "cell_type": "code",
   "execution_count": 19,
   "source": [
    "plt.imshow(X_train_new[20000], cmap=\"hot\")\r\n"
   ],
   "outputs": [
    {
     "output_type": "execute_result",
     "data": {
      "text/plain": [
       "<matplotlib.image.AxesImage at 0x1561e96f888>"
      ]
     },
     "metadata": {},
     "execution_count": 19
    },
    {
     "output_type": "display_data",
     "data": {
      "image/png": "[encoded data removed]",
      "text/plain": [
       "<Figure size 432x288 with 1 Axes>"
      ]
     },
     "metadata": {
      "needs_background": "light"
     }
    }
   ],
   "metadata": {}
  },
  {
   "cell_type": "code",
   "execution_count": 28,
   "source": [
    "X_train_new = X_train_new.reshape((60000, 400))\r\n",
    "X_test_new = X_test_new.reshape((10000, 400))\r\n",
    "\r\n",
    "test_methods(methods, X_train_new, y_train, X_test_new, y_test)\r\n"
   ],
   "outputs": [
    {
     "output_type": "stream",
     "name": "stdout",
     "text": [
      "MULTINOMIALNB \n",
      "\n",
      "Test accuracy:  0.8095 \n",
      "\n",
      "[[949   3  29   2   2  17  21   2   8   5]\n",
      " [ 16 850  32  17  53  55  48 104  77  23]\n",
      " [  0  57 831  20   3   2   3  15  11   2]\n",
      " [  4   6  12 910   0  86   2  37  31  11]\n",
      " [  1  56   1   1 782   6  24  15  11  61]\n",
      " [  0  18   1  17   1 660   5   0  23   4]\n",
      " [  6  16  24   1  30  14 852   0   4   0]\n",
      " [  0  21  38  11   0   3   0 761  20  21]\n",
      " [  3  95  57  21  16  25   2  29 690  72]\n",
      " [  1  13   7  10  95  24   1  65  99 810]]\n",
      "\n",
      "\n",
      "\n",
      "GAUSSIANNB \n",
      "\n",
      "Test accuracy:  0.8334 \n",
      "\n",
      "[[930   1  15   5   1  14  14   1   8   4]\n",
      " [  0 908  15   6  32  11  15  55  45  21]\n",
      " [  5  49 848  24   5   3  11  39  28   7]\n",
      " [  2   2  10 870   0  61   1  13  13  10]\n",
      " [  6  35   6   1 830  10  37  18  14  50]\n",
      " [  8  13  12  29   8 722  18   5  31   6]\n",
      " [ 11  26  10   0  22  19 851   0   7   0]\n",
      " [  1  53  48  23   1   6   0 825  15  18]\n",
      " [ 14  36  56  38  16  27   8  20 704  47]\n",
      " [  3  12  12  14  67  19   3  52 109 846]]\n",
      "\n",
      "\n",
      "\n",
      "BERNOULLINB \n",
      "\n",
      "Test accuracy:  0.7945 \n",
      "\n",
      "[[935   0  29   4   2  14  10   0  15   1]\n",
      " [ 21 694  31  17  63  30  51  95  82  23]\n",
      " [  1  19 847  12   5   3   6  11   9   3]\n",
      " [  5  18  13 910   0 138   2   3  45  13]\n",
      " [  2  41   3   2 812  16  16  25  14  59]\n",
      " [  6  21   6   8   6 646  21   6  25   6]\n",
      " [  6  19  16   2  14  16 850   0   7   0]\n",
      " [  1  15  47  21   1   2   0 785  14  29]\n",
      " [  2 288  35  28   9  17   2  30 676  85]\n",
      " [  1  20   5   6  70  10   0  73  87 790]]\n",
      "\n",
      "\n",
      "\n"
     ]
    }
   ],
   "metadata": {
    "pycharm": {
     "name": "#%%\n"
    }
   }
  },
  {
   "cell_type": "markdown",
   "source": [
    "### Rotations"
   ],
   "metadata": {
    "pycharm": {
     "name": "#%% md\n"
    }
   }
  },
  {
   "cell_type": "code",
   "execution_count": 21,
   "source": [
    "from scipy import ndimage\r\n",
    "\r\n",
    "def rotate_dataset(dataset):\r\n",
    "    data_rot = []\r\n",
    "    for img in dataset:\r\n",
    "        img_90 = ndimage.rotate(img.reshape(28,28), 180, reshape=False)\r\n",
    "        data_rot.append(img_90.reshape(784))\r\n",
    "    data_rot = np.array(data_rot)\r\n",
    "    return data_rot"
   ],
   "outputs": [],
   "metadata": {}
  },
  {
   "cell_type": "code",
   "execution_count": 22,
   "source": [
    "\"\"\"\r\n",
    "fig = plt.figure(figsize=(10, 3))\r\n",
    "ax1, ax2, ax3 = fig.subplots(1, 3)\r\n",
    "\r\n",
    "img_45 = ndimage.rotate(X_train[1].reshape(28,28), 90, reshape=False)\r\n",
    "full_img_45 = ndimage.rotate(X_train[1].reshape(28,28), 90, reshape=True)\r\n",
    "ax1.imshow(img_45, cmap='gray')\r\n",
    "ax1.set_axis_off()\r\n",
    "ax2.imshow(full_img_45, cmap='gray')\r\n",
    "ax2.set_axis_off()\r\n",
    "ax3.imshow(X_train[1].reshape(28,28), cmap='gray')\r\n",
    "ax2.set_axis_off()\r\n",
    "fig.set_tight_layout(True)\r\n",
    "plt.show()\r\n",
    "\"\"\""
   ],
   "outputs": [
    {
     "output_type": "execute_result",
     "data": {
      "text/plain": [
       "\"\\nfig = plt.figure(figsize=(10, 3))\\nax1, ax2, ax3 = fig.subplots(1, 3)\\n\\nimg_45 = ndimage.rotate(X_train[1].reshape(28,28), 90, reshape=False)\\nfull_img_45 = ndimage.rotate(X_train[1].reshape(28,28), 90, reshape=True)\\nax1.imshow(img_45, cmap='gray')\\nax1.set_axis_off()\\nax2.imshow(full_img_45, cmap='gray')\\nax2.set_axis_off()\\nax3.imshow(X_train[1].reshape(28,28), cmap='gray')\\nax2.set_axis_off()\\nfig.set_tight_layout(True)\\nplt.show()\\n\""
      ]
     },
     "metadata": {},
     "execution_count": 22
    }
   ],
   "metadata": {}
  },
  {
   "cell_type": "code",
   "execution_count": 32,
   "source": [
    "X_train_rot = []\r\n",
    "for img in X_train:\r\n",
    "    img_90 = ndimage.rotate(img.reshape(28,28), 180, reshape=False)\r\n",
    "    X_train_rot.append(img_90.reshape(784))\r\n",
    "X_train_rot = np.array(X_train_rot)\r\n",
    "\r\n",
    "X_test_rot = []\r\n",
    "for img in X_test:\r\n",
    "    img_90 = ndimage.rotate(img.reshape(28,28), 180, reshape=False)\r\n",
    "    X_test_rot.append(img_90.reshape(784))\r\n",
    "X_test_rot = np.array(X_test_rot)"
   ],
   "outputs": [],
   "metadata": {}
  },
  {
   "cell_type": "code",
   "execution_count": 33,
   "source": [
    "X_test_rot.shape"
   ],
   "outputs": [
    {
     "output_type": "execute_result",
     "data": {
      "text/plain": [
       "(10000, 784)"
      ]
     },
     "metadata": {},
     "execution_count": 33
    }
   ],
   "metadata": {
    "pycharm": {
     "name": "#%%\n"
    }
   }
  },
  {
   "cell_type": "code",
   "execution_count": 25,
   "source": [
    "plt.imshow(X_train_rot[4].reshape(28,28), cmap=\"hot\")\r\n",
    "plt.show()\r\n",
    "\r\n",
    "plt.imshow(X_train[4].reshape(28,28), cmap=\"hot\")\r\n",
    "plt.show()"
   ],
   "outputs": [
    {
     "output_type": "display_data",
     "data": {
      "image/png": "[encoded data removed]",
      "text/plain": [
       "<Figure size 432x288 with 1 Axes>"
      ]
     },
     "metadata": {
      "needs_background": "light"
     }
    },
    {
     "output_type": "display_data",
     "data": {
      "image/png": "[encoded data removed]",
      "text/plain": [
       "<Figure size 432x288 with 1 Axes>"
      ]
     },
     "metadata": {
      "needs_background": "light"
     }
    }
   ],
   "metadata": {
    "collapsed": false,
    "pycharm": {
     "name": "#%%\n"
    }
   }
  },
  {
   "cell_type": "markdown",
   "source": [
    "### MNIST test"
   ],
   "metadata": {
    "collapsed": false,
    "pycharm": {
     "name": "#%% md\n"
    }
   }
  },
  {
   "cell_type": "code",
   "execution_count": 41,
   "source": [
    "X_train = X_train.reshape(60000,784)\r\n",
    "X_train.shape\r\n",
    "test_methods(methods, X_train, y_train, X_test_rot, y_test)\r\n",
    "\r\n"
   ],
   "outputs": [
    {
     "output_type": "stream",
     "name": "stdout",
     "text": [
      "MULTINOMIALNB \n",
      "\n",
      "Test accuracy:  0.181 \n",
      "\n",
      "[[510   0 155   0 155   1  43   7   4  21]\n",
      " [  0 972   3   0   0   5  13   2  15   2]\n",
      " [328  30  37 181  23 400   8   9 334   7]\n",
      " [  4   1 237  23  16 168  61   0 159   2]\n",
      " [ 44   0  32   8  76  28  71   9   4   5]\n",
      " [  4  21 184  95  26  93   6   9  67   7]\n",
      " [ 23  32  32 343 601 114   2 982 291 963]\n",
      " [ 11   1  80   1   5   0 235   0   0   1]\n",
      " [ 51  76 262 358  76  81 142  10  97   1]\n",
      " [  5   2  10   1   4   2 377   0   3   0]]\n",
      "\n",
      "\n",
      "\n",
      "GAUSSIANNB \n",
      "\n",
      "Test accuracy:  0.1673 \n",
      "\n",
      "[[502   2 161  17 145  10  21   7  63   9]\n",
      " [  0 920   5  16   1  11  19   4  28   3]\n",
      " [ 50   3   9  42  52  65   0  63  37  18]\n",
      " [ 26  12 303  34 102 443  37   4 196   4]\n",
      " [164   1  25   6  18   8  27   6   5   1]\n",
      " [  3  11  15  24   4  11   0   4   3   1]\n",
      " [120 138  57 403 561 157   6 934 465 970]\n",
      " [ 11   0 123   1   5   2 105   1   1   0]\n",
      " [ 77  45 291 454  87 173 114   5 172   3]\n",
      " [ 27   3  43  13   7  12 629   0   4   0]]\n",
      "\n",
      "\n",
      "\n",
      "BERNOULLINB \n",
      "\n",
      "Test accuracy:  0.1979 \n",
      "\n",
      "[[ 484    0  159    1  106    1   40    4    3   22]\n",
      " [   0 1058    5    7    5   21   27    8   20    4]\n",
      " [ 404    9   36  212   29  405   15    8  371    6]\n",
      " [   4    0  243   21    7  145   70    0  151    2]\n",
      " [  24    0   30   12  167   37   60   13    4   14]\n",
      " [   4   42  257  142  107  124   13   17   66    8]\n",
      " [  17    7   34  318  520  101    2  974  271  952]\n",
      " [  10    1   69    1    7    0  227    1    0    0]\n",
      " [  28   15  192  296   21   47  112    3   86    1]\n",
      " [   5    3    7    0   13   11  392    0    2    0]]\n",
      "\n",
      "\n",
      "\n"
     ]
    }
   ],
   "metadata": {
    "collapsed": false,
    "pycharm": {
     "name": "#%%\n"
    }
   }
  },
  {
   "cell_type": "code",
   "execution_count": null,
   "source": [],
   "outputs": [],
   "metadata": {
    "collapsed": false,
    "pycharm": {
     "name": "#%%\n"
    }
   }
  }
 ],
 "metadata": {
  "kernelspec": {
   "name": "python3",
   "display_name": "Python 3.7.10 64-bit ('DataScience': conda)"
  },
  "language_info": {
   "name": "python",
   "version": "3.7.10",
   "mimetype": "text/x-python",
   "codemirror_mode": {
    "name": "ipython",
    "version": 3
   },
   "pygments_lexer": "ipython3",
   "nbconvert_exporter": "python",
   "file_extension": ".py"
  },
  "interpreter": {
   "hash": "778ff29dbb7c086863f07577f03c9ae37c5c1802770bd100d673282f392d019a"
  }
 },
 "nbformat": 4,
 "nbformat_minor": 2
}