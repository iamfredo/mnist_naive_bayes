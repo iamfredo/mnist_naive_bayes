{
    "cells": [
        {
            "cell_type": "code",
            "execution_count": 1,
            "source": [
                "import pandas as pd\n",
                "import numpy as np\n",
                "import matplotlib.pyplot as plt\n",
                "import seaborn as sns\n",
                "import math\n",
                "\n",
                "from sklearn import naive_bayes\n"
            ],
            "outputs": [],
            "metadata": {}
        },
        {
            "cell_type": "code",
            "execution_count": 2,
            "source": [
                "# (X_train, y_train), (X_test, y_test) = mnist.load_data()\n",
                "train_df = pd.read_csv(\"data/mnist_train.csv\")\n",
                "test_df = pd.read_csv(\"data/mnist_test.csv\")"
            ],
            "outputs": [],
            "metadata": {}
        },
        {
            "cell_type": "code",
            "execution_count": 3,
            "source": [
                "X_train_2d = train_df.drop(\"label\", axis=1).values.reshape(60000, 28,28)\n",
                "X_test_2d = test_df.drop(\"label\", axis=1).values.reshape(10000, 28,28)\n",
                "X_train_1d = X_train_2d.reshape(60000, 784)\n",
                "X_test_1d = X_test_2d.reshape(10000, 784)\n",
                "y_train = train_df[\"label\"]\n",
                "y_test = test_df[\"label\"]"
            ],
            "outputs": [],
            "metadata": {}
        },
        {
            "cell_type": "code",
            "execution_count": 4,
            "source": [
                "y_count = np.zeros(10)\n",
                "for label in y_train:\n",
                "    y_count[label] += 1\n",
                "\n",
                "print(\"y_counts: \", y_count, y_count.sum(), \"\\n\")\n",
                "\n",
                "# Probabilities per Label\n",
                "label_probs = y_count/y_count.sum()*100\n",
                "for i in range(10):\n",
                "    print(f\"Probability for Class {i}: {label_probs[i]:.2f} %\")"
            ],
            "outputs": [
                {
                    "output_type": "stream",
                    "name": "stdout",
                    "text": [
                        "y_counts:  [5923. 6742. 5958. 6131. 5842. 5421. 5918. 6265. 5851. 5949.] 60000.0 \n",
                        "\n",
                        "Probability for Class 0: 9.87 %\n",
                        "Probability for Class 1: 11.24 %\n",
                        "Probability for Class 2: 9.93 %\n",
                        "Probability for Class 3: 10.22 %\n",
                        "Probability for Class 4: 9.74 %\n",
                        "Probability for Class 5: 9.04 %\n",
                        "Probability for Class 6: 9.86 %\n",
                        "Probability for Class 7: 10.44 %\n",
                        "Probability for Class 8: 9.75 %\n",
                        "Probability for Class 9: 9.92 %\n"
                    ]
                }
            ],
            "metadata": {}
        },
        {
            "cell_type": "code",
            "execution_count": 5,
            "source": [
                "x_mid = (X_train_2d.shape[1]+1)/2\n",
                "y_mid = (X_train_2d.shape[2]+1)/2\n",
                "center = np.array((x_mid, y_mid))\n",
                "print(center)"
            ],
            "outputs": [
                {
                    "output_type": "stream",
                    "name": "stdout",
                    "text": [
                        "[14.5 14.5]\n"
                    ]
                }
            ],
            "metadata": {}
        },
        {
            "cell_type": "code",
            "execution_count": 6,
            "source": [
                "def get_euclidian_distance(arr):\n",
                "    \"\"\"\n",
                "    Function that transforms colored pixels to euclidian distances\n",
                "    \"\"\"\n",
                "    euclid_array = []\n",
                "\n",
                "    for img in arr:\n",
                "        x = 1\n",
                "        new_img = []\n",
                "        for row in img:\n",
                "            y = 1\n",
                "            # x_colored = 0\n",
                "            distance_x = (pow(center[0] - x, 2))\n",
                "            # print(\"dist x:\", center[0] - x)\n",
                "            for col in row:\n",
                "                # y_colored = 0\n",
                "                if col > 0:\n",
                "                    distance_y = (pow(center[1] - y, 2))\n",
                "                    # y_colored = 1\n",
                "                    new_img.append(round(math.sqrt(distance_x+distance_y), 2)) #, y_colored))\n",
                "                else:\n",
                "                    new_img.append(0)\n",
                "                y += 1\n",
                "            x += 1\n",
                "            \n",
                "        euclid_array.append(new_img)\n",
                "    return euclid_array\n"
            ],
            "outputs": [],
            "metadata": {}
        },
        {
            "cell_type": "code",
            "execution_count": 20,
            "source": [
                "from sklearn.metrics import classification_report\n",
                "\n",
                "def train_test_data(X_train, y_train, X_test, y_test):\n",
                "    nb = naive_bayes.GaussianNB()\n",
                "    nb.fit(X_train, y_train)\n",
                "    pred = nb.predict(X_test)\n",
                "    print(\"Never predicted values: \", set(y_test) - set(pred), \"\\n\")\n",
                "\n",
                "    print(classification_report(y_test, pred))"
            ],
            "outputs": [],
            "metadata": {}
        },
        {
            "cell_type": "code",
            "execution_count": 8,
            "source": [
                "import scipy as sp\n",
                "\n",
                "def shift(cpytest):\n",
                "    \"\"\"\n",
                "    Returns 2D images\n",
                "    \"\"\"\n",
                "    n = 5  # Skalierungsvariable\n",
                "\n",
                "    shift_array = [(n, 0), (-n, 0), (0, n), (0, -n)]\n",
                "    x = np.random.randint(1, 4)\n",
                "    shift_test = []\n",
                "\n",
                "    for i in range(cpytest.shape[0]):\n",
                "        x = 2\n",
                "        shift_test.append(sp.ndimage.interpolation.shift(cpytest[i], [shift_array[x][0], shift_array[x][1]], cval=0,\n",
                "                                                       mode='constant', order=0))\n",
                "\n",
                "    return shift_test\n",
                "\n"
            ],
            "outputs": [],
            "metadata": {}
        },
        {
            "cell_type": "code",
            "execution_count": 9,
            "source": [
                "from scipy.ndimage import rotate\n",
                "\n",
                "def rotation(cpytest):\n",
                "    \"\"\"\n",
                "    Returns 2D images\n",
                "    \"\"\"\n",
                "    rotated = []\n",
                "    for i in range(cpytest.shape[0]):\n",
                "        rotated.append(rotate(cpytest[i], 90))\n",
                "    return rotated"
            ],
            "outputs": [],
            "metadata": {}
        },
        {
            "cell_type": "markdown",
            "source": [
                "## Default Accuracy"
            ],
            "metadata": {}
        },
        {
            "cell_type": "code",
            "execution_count": 10,
            "source": [
                "# Performance without manipulation\n",
                "train_test_data(X_train_1d, y_train, X_test_1d, y_test)\n"
            ],
            "outputs": [
                {
                    "output_type": "stream",
                    "name": "stdout",
                    "text": [
                        "              precision    recall  f1-score   support\n",
                        "\n",
                        "           0       0.79      0.89      0.84       980\n",
                        "           1       0.85      0.95      0.90      1135\n",
                        "           2       0.90      0.26      0.40      1032\n",
                        "           3       0.71      0.35      0.47      1010\n",
                        "           4       0.88      0.17      0.29       982\n",
                        "           5       0.55      0.05      0.09       892\n",
                        "           6       0.65      0.93      0.77       958\n",
                        "           7       0.88      0.27      0.42      1028\n",
                        "           8       0.28      0.67      0.40       974\n",
                        "           9       0.37      0.95      0.53      1009\n",
                        "\n",
                        "    accuracy                           0.56     10000\n",
                        "   macro avg       0.69      0.55      0.51     10000\n",
                        "weighted avg       0.69      0.56      0.52     10000\n",
                        "\n"
                    ]
                }
            ],
            "metadata": {}
        },
        {
            "cell_type": "markdown",
            "source": [
                "## Transform Pixel values to Euclidian Distance"
            ],
            "metadata": {}
        },
        {
            "cell_type": "code",
            "execution_count": 11,
            "source": [
                "# Pixel value -> Euclidian distance to center\n",
                "\n",
                "# Get Euclidian Distances of rotated Images\n",
                "train_distances = np.array(get_euclidian_distance(X_train_2d))\n",
                "test_distances = np.array(get_euclidian_distance(X_test_2d))\n",
                "\n",
                "# Test accuracy\n",
                "train_test_data(train_distances, y_train, test_distances, y_test)\n"
            ],
            "outputs": [
                {
                    "output_type": "stream",
                    "name": "stdout",
                    "text": [
                        "              precision    recall  f1-score   support\n",
                        "\n",
                        "           0       0.66      0.90      0.76       980\n",
                        "           1       0.93      0.92      0.93      1135\n",
                        "           2       0.90      0.20      0.33      1032\n",
                        "           3       0.66      0.31      0.42      1010\n",
                        "           4       0.89      0.13      0.22       982\n",
                        "           5       0.48      0.03      0.05       892\n",
                        "           6       0.64      0.94      0.76       958\n",
                        "           7       0.87      0.23      0.37      1028\n",
                        "           8       0.29      0.72      0.42       974\n",
                        "           9       0.37      0.94      0.53      1009\n",
                        "\n",
                        "    accuracy                           0.54     10000\n",
                        "   macro avg       0.67      0.53      0.48     10000\n",
                        "weighted avg       0.68      0.54      0.49     10000\n",
                        "\n"
                    ]
                }
            ],
            "metadata": {}
        },
        {
            "cell_type": "markdown",
            "source": [],
            "metadata": {}
        },
        {
            "cell_type": "markdown",
            "source": [
                "## Rotation"
            ],
            "metadata": {}
        },
        {
            "cell_type": "code",
            "execution_count": 12,
            "source": [
                "# Rotate Test Data\n",
                "test_rotated = rotation(X_test_2d)\n",
                "\n",
                "# Get Euclidian Distances of rotated Images\n",
                "train_distances = np.array(get_euclidian_distance(X_train_2d))\n",
                "test_rotated_distances = np.array(get_euclidian_distance(test_rotated))\n",
                "\n",
                "# Test accuracy\n",
                "train_test_data(train_distances, y_train, test_rotated_distances, y_test)\n"
            ],
            "outputs": [
                {
                    "output_type": "stream",
                    "name": "stdout",
                    "text": [
                        "              precision    recall  f1-score   support\n",
                        "\n",
                        "           0       0.25      0.56      0.35       980\n",
                        "           1       0.00      0.00      0.00      1135\n",
                        "           2       0.08      0.09      0.09      1032\n",
                        "           3       0.02      0.01      0.02      1010\n",
                        "           4       0.02      0.02      0.02       982\n",
                        "           5       0.00      0.00      0.00       892\n",
                        "           6       0.00      0.01      0.01       958\n",
                        "           7       0.00      0.00      0.00      1028\n",
                        "           8       0.02      0.02      0.02       974\n",
                        "           9       0.01      0.01      0.01      1009\n",
                        "\n",
                        "    accuracy                           0.07     10000\n",
                        "   macro avg       0.04      0.07      0.05     10000\n",
                        "weighted avg       0.04      0.07      0.05     10000\n",
                        "\n"
                    ]
                }
            ],
            "metadata": {}
        },
        {
            "cell_type": "code",
            "execution_count": 18,
            "source": [
                "# Rotation Performance NO EUCLIDIAN\n",
                "\n",
                "# Shift Test Data\n",
                "test_rotated = rotation(X_test_2d)\n",
                "test_rotated = np.array(test_rotated).reshape(10000, 784)\n",
                "\n",
                "# Test accuracy\n",
                "train_test_data(X_train_1d, y_train, test_rotated, y_test)"
            ],
            "outputs": [
                {
                    "output_type": "stream",
                    "name": "stdout",
                    "text": [
                        "set()\n",
                        "              precision    recall  f1-score   support\n",
                        "\n",
                        "           0       0.28      0.52      0.36       980\n",
                        "           1       0.00      0.00      0.00      1135\n",
                        "           2       0.06      0.08      0.07      1032\n",
                        "           3       0.01      0.01      0.01      1010\n",
                        "           4       0.02      0.03      0.03       982\n",
                        "           5       0.02      0.00      0.00       892\n",
                        "           6       0.01      0.01      0.01       958\n",
                        "           7       0.00      0.00      0.00      1028\n",
                        "           8       0.02      0.03      0.02       974\n",
                        "           9       0.01      0.01      0.01      1009\n",
                        "\n",
                        "    accuracy                           0.07     10000\n",
                        "   macro avg       0.04      0.07      0.05     10000\n",
                        "weighted avg       0.04      0.07      0.05     10000\n",
                        "\n"
                    ]
                }
            ],
            "metadata": {}
        },
        {
            "cell_type": "markdown",
            "source": [
                "## Shift"
            ],
            "metadata": {}
        },
        {
            "cell_type": "code",
            "execution_count": 19,
            "source": [
                "# Shift Test Data\n",
                "test_shift = shift(X_test_2d)\n",
                "\n",
                "# Get Euclidian Distances of rotated Images\n",
                "train_distances = get_euclidian_distance(X_train_2d)\n",
                "test_shift_distances = get_euclidian_distance(test_shift)\n",
                "\n",
                "# Test accuracy\n",
                "train_test_data(train_distances, y_train, test_shift_distances, y_test)\n"
            ],
            "outputs": [
                {
                    "output_type": "stream",
                    "name": "stdout",
                    "text": [
                        "{3}\n",
                        "              precision    recall  f1-score   support\n",
                        "\n",
                        "           0       0.04      0.03      0.04       980\n",
                        "           1       0.00      0.00      0.00      1135\n",
                        "           2       0.13      0.31      0.18      1032\n",
                        "           3       0.00      0.00      0.00      1010\n",
                        "           4       0.30      0.14      0.19       982\n",
                        "           5       0.25      0.57      0.35       892\n",
                        "           6       0.55      0.31      0.40       958\n",
                        "           7       0.76      0.12      0.21      1028\n",
                        "           8       0.17      0.44      0.24       974\n",
                        "           9       0.37      0.25      0.29      1009\n",
                        "\n",
                        "    accuracy                           0.21     10000\n",
                        "   macro avg       0.26      0.22      0.19     10000\n",
                        "weighted avg       0.25      0.21      0.19     10000\n",
                        "\n"
                    ]
                },
                {
                    "output_type": "stream",
                    "name": "stderr",
                    "text": [
                        "/Users/fredo/miniforge3/envs/DataScience/lib/python3.8/site-packages/sklearn/metrics/_classification.py:1248: UndefinedMetricWarning: Precision and F-score are ill-defined and being set to 0.0 in labels with no predicted samples. Use `zero_division` parameter to control this behavior.\n",
                        "  _warn_prf(average, modifier, msg_start, len(result))\n",
                        "/Users/fredo/miniforge3/envs/DataScience/lib/python3.8/site-packages/sklearn/metrics/_classification.py:1248: UndefinedMetricWarning: Precision and F-score are ill-defined and being set to 0.0 in labels with no predicted samples. Use `zero_division` parameter to control this behavior.\n",
                        "  _warn_prf(average, modifier, msg_start, len(result))\n",
                        "/Users/fredo/miniforge3/envs/DataScience/lib/python3.8/site-packages/sklearn/metrics/_classification.py:1248: UndefinedMetricWarning: Precision and F-score are ill-defined and being set to 0.0 in labels with no predicted samples. Use `zero_division` parameter to control this behavior.\n",
                        "  _warn_prf(average, modifier, msg_start, len(result))\n"
                    ]
                }
            ],
            "metadata": {}
        },
        {
            "cell_type": "code",
            "execution_count": 15,
            "source": [
                "# Shift Performance NO EUCLIDIAN\n",
                "\n",
                "# Shift Test Data\n",
                "test_shift = shift(X_test_2d)\n",
                "test_shift = np.array(test_shift).reshape(10000, 784)\n",
                "\n",
                "# Test accuracy\n",
                "train_test_data(X_train_1d, y_train, test_shift, y_test)\n"
            ],
            "outputs": [
                {
                    "output_type": "stream",
                    "name": "stdout",
                    "text": [
                        "              precision    recall  f1-score   support\n",
                        "\n",
                        "           0       0.07      0.04      0.05       980\n",
                        "           1       0.00      0.00      0.00      1135\n",
                        "           2       0.15      0.34      0.20      1032\n",
                        "           3       0.00      0.00      0.00      1010\n",
                        "           4       0.30      0.18      0.23       982\n",
                        "           5       0.25      0.55      0.34       892\n",
                        "           6       0.43      0.32      0.37       958\n",
                        "           7       0.75      0.11      0.19      1028\n",
                        "           8       0.18      0.46      0.25       974\n",
                        "           9       0.36      0.25      0.30      1009\n",
                        "\n",
                        "    accuracy                           0.22     10000\n",
                        "   macro avg       0.25      0.23      0.19     10000\n",
                        "weighted avg       0.25      0.22      0.19     10000\n",
                        "\n"
                    ]
                },
                {
                    "output_type": "stream",
                    "name": "stderr",
                    "text": [
                        "/Users/fredo/miniforge3/envs/DataScience/lib/python3.8/site-packages/sklearn/metrics/_classification.py:1248: UndefinedMetricWarning: Precision and F-score are ill-defined and being set to 0.0 in labels with no predicted samples. Use `zero_division` parameter to control this behavior.\n",
                        "  _warn_prf(average, modifier, msg_start, len(result))\n",
                        "/Users/fredo/miniforge3/envs/DataScience/lib/python3.8/site-packages/sklearn/metrics/_classification.py:1248: UndefinedMetricWarning: Precision and F-score are ill-defined and being set to 0.0 in labels with no predicted samples. Use `zero_division` parameter to control this behavior.\n",
                        "  _warn_prf(average, modifier, msg_start, len(result))\n",
                        "/Users/fredo/miniforge3/envs/DataScience/lib/python3.8/site-packages/sklearn/metrics/_classification.py:1248: UndefinedMetricWarning: Precision and F-score are ill-defined and being set to 0.0 in labels with no predicted samples. Use `zero_division` parameter to control this behavior.\n",
                        "  _warn_prf(average, modifier, msg_start, len(result))\n"
                    ]
                }
            ],
            "metadata": {}
        },
        {
            "cell_type": "code",
            "execution_count": null,
            "source": [],
            "outputs": [],
            "metadata": {}
        },
        {
            "cell_type": "code",
            "execution_count": null,
            "source": [],
            "outputs": [],
            "metadata": {}
        }
    ],
    "metadata": {
        "orig_nbformat": 4,
        "language_info": {
            "name": "python",
            "version": "3.8.10",
            "mimetype": "text/x-python",
            "codemirror_mode": {
                "name": "ipython",
                "version": 3
            },
            "pygments_lexer": "ipython3",
            "nbconvert_exporter": "python",
            "file_extension": ".py"
        },
        "kernelspec": {
            "name": "python3",
            "display_name": "Python 3.8.10 64-bit ('DataScience': conda)"
        },
        "interpreter": {
            "hash": "49841ab73a559959fe9700a2ac9262e4d00c94198bd455ae7faea303f7be3757"
        }
    },
    "nbformat": 4,
    "nbformat_minor": 2
}