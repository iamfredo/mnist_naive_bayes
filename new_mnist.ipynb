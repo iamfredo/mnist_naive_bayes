{
    "cells": [
        {
            "cell_type": "code",
            "execution_count": 74,
            "source": [
                "import pandas as pd\n",
                "import numpy as np\n",
                "import matplotlib.pyplot as plt\n",
                "import seaborn as sns\n",
                "import math"
            ],
            "outputs": [],
            "metadata": {}
        },
        {
            "cell_type": "code",
            "execution_count": 23,
            "source": [
                "# (X_train, y_train), (X_test, y_test) = mnist.load_data()\n",
                "train_df = pd.read_csv(\"data/mnist_train.csv\")\n",
                "test_df = pd.read_csv(\"data/mnist_test.csv\")"
            ],
            "outputs": [],
            "metadata": {}
        },
        {
            "cell_type": "code",
            "execution_count": 3,
            "source": [
                "X_train = train_df.drop(\"label\", axis=1).values.reshape(60000, 28,28)\n",
                "X_test = test_df.drop(\"label\", axis=1).values.reshape(10000, 28,28)\n",
                "y_train = train_df[\"label\"]\n",
                "y_test = test_df[\"label\"]"
            ],
            "outputs": [],
            "metadata": {}
        },
        {
            "cell_type": "code",
            "execution_count": 10,
            "source": [
                "y_count = np.zeros(10)\n",
                "for label in y_train:\n",
                "    y_count[label] += 1\n",
                "\n",
                "print(\"y_counts: \", y_count, y_count.sum(), \"\\n\")\n",
                "\n",
                "# Probabilities per Label\n",
                "label_probs = y_count/y_count.sum()*100\n",
                "for i in range(10):\n",
                "    print(f\"Probability for Class {i}: {label_probs[i]:.2f} %\")"
            ],
            "outputs": [
                {
                    "output_type": "stream",
                    "name": "stdout",
                    "text": [
                        "y_counts:  [5923. 6742. 5958. 6131. 5842. 5421. 5918. 6265. 5851. 5949.] 60000.0 \n",
                        "\n",
                        "Probability for Class 0: 9.87 %\n",
                        "Probability for Class 1: 11.24 %\n",
                        "Probability for Class 2: 9.93 %\n",
                        "Probability for Class 3: 10.22 %\n",
                        "Probability for Class 4: 9.74 %\n",
                        "Probability for Class 5: 9.04 %\n",
                        "Probability for Class 6: 9.86 %\n",
                        "Probability for Class 7: 10.44 %\n",
                        "Probability for Class 8: 9.75 %\n",
                        "Probability for Class 9: 9.92 %\n"
                    ]
                }
            ],
            "metadata": {}
        },
        {
            "cell_type": "code",
            "execution_count": 33,
            "source": [
                "x_mid = X_train.shape[1]/2\n",
                "y_mid = X_train.shape[2]/2\n",
                "center = np.array((x_mid, y_mid))\n",
                "print(center)"
            ],
            "outputs": [
                {
                    "output_type": "stream",
                    "name": "stdout",
                    "text": [
                        "[14. 14.]\n"
                    ]
                }
            ],
            "metadata": {}
        },
        {
            "cell_type": "code",
            "execution_count": 31,
            "source": [
                "X_train_2D = X_train.reshape(60000, 784)\n",
                "X_train_2D.shape"
            ],
            "outputs": [
                {
                    "output_type": "execute_result",
                    "data": {
                        "text/plain": [
                            "(60000, 784)"
                        ]
                    },
                    "metadata": {},
                    "execution_count": 31
                }
            ],
            "metadata": {}
        },
        {
            "cell_type": "code",
            "execution_count": 98,
            "source": [
                "X_train_new = []\n",
                "\n",
                "for img in X_train:\n",
                "    new_img = []\n",
                "    for row in img:\n",
                "        x_colored = 0\n",
                "        distance_x = (pow(center[0] - x, 2))\n",
                "        for col in row:\n",
                "            y_colored = 0\n",
                "            distance_y = (pow(center[1] - y, 2))\n",
                "            if col > 0:\n",
                "                y_colored = 1\n",
                "            new_img.append((math.sqrt(distance_x+distance_y), y_colored))\n",
                "            y = y+1\n",
                "        x += 1\n",
                "    X_train_new.append(new_img)\n"
            ],
            "outputs": [],
            "metadata": {}
        },
        {
            "cell_type": "code",
            "execution_count": 88,
            "source": [
                "for img in new_img:\n",
                "    if img[1] != 0:\n",
                "        print(img)"
            ],
            "outputs": [
                {
                    "output_type": "stream",
                    "name": "stdout",
                    "text": [
                        "(47074083.5801821, 1)\n",
                        "(47074084.57954496, 1)\n",
                        "(47074085.578907825, 1)\n",
                        "(47074086.578270696, 1)\n",
                        "(47074108.59994496, 1)\n",
                        "(47074109.59930782, 1)\n",
                        "(47074110.59867069, 1)\n",
                        "(47074111.598033555, 1)\n",
                        "(47074112.59739642, 1)\n",
                        "(47074113.59675928, 1)\n",
                        "(47074114.596122146, 1)\n",
                        "(47074115.59548501, 1)\n",
                        "(47074135.61843355, 1)\n",
                        "(47074136.61779641, 1)\n",
                        "(47074137.61715928, 1)\n",
                        "(47074138.61652214, 1)\n",
                        "(47074139.615885004, 1)\n",
                        "(47074140.61524787, 1)\n",
                        "(47074141.61461073, 1)\n",
                        "(47074142.613973595, 1)\n",
                        "(47074143.61333646, 1)\n",
                        "(47074144.61269933, 1)\n",
                        "(47074146.61142506, 1)\n",
                        "(47074147.61078792, 1)\n",
                        "(47074148.610150784, 1)\n",
                        "(47074162.636922136, 1)\n",
                        "(47074163.636285, 1)\n",
                        "(47074164.63564786, 1)\n",
                        "(47074165.63501073, 1)\n",
                        "(47074166.63437359, 1)\n",
                        "(47074167.633736454, 1)\n",
                        "(47074170.63182505, 1)\n",
                        "(47074171.631187916, 1)\n",
                        "(47074172.63055078, 1)\n",
                        "(47074173.62991364, 1)\n",
                        "(47074174.62927651, 1)\n",
                        "(47074175.62863937, 1)\n",
                        "(47074176.628002234, 1)\n",
                        "(47074189.65541072, 1)\n",
                        "(47074190.654773585, 1)\n",
                        "(47074191.65413645, 1)\n",
                        "(47074192.65349931, 1)\n",
                        "(47074193.652862184, 1)\n",
                        "(47074198.6496765, 1)\n",
                        "(47074199.649039365, 1)\n",
                        "(47074200.64840223, 1)\n",
                        "(47074201.64776509, 1)\n",
                        "(47074202.647127956, 1)\n",
                        "(47074203.64649083, 1)\n",
                        "(47074217.67326218, 1)\n",
                        "(47074218.67262504, 1)\n",
                        "(47074219.671987906, 1)\n",
                        "(47074226.66752795, 1)\n",
                        "(47074227.666890815, 1)\n",
                        "(47074228.666253686, 1)\n",
                        "(47074229.66561655, 1)\n",
                        "(47074230.66497941, 1)\n",
                        "(47074245.69111363, 1)\n",
                        "(47074246.69047649, 1)\n",
                        "(47074247.689839356, 1)\n",
                        "(47074251.68729081, 1)\n",
                        "(47074252.68665368, 1)\n",
                        "(47074253.686016545, 1)\n",
                        "(47074254.68537941, 1)\n",
                        "(47074255.68474227, 1)\n",
                        "(47074256.684105136, 1)\n",
                        "(47074257.683468, 1)\n",
                        "(47074273.70896508, 1)\n",
                        "(47074274.70832794, 1)\n",
                        "(47074277.70641654, 1)\n",
                        "(47074278.7057794, 1)\n",
                        "(47074279.70514227, 1)\n",
                        "(47074280.70450513, 1)\n",
                        "(47074281.703867994, 1)\n",
                        "(47074282.70323086, 1)\n",
                        "(47074301.726816535, 1)\n",
                        "(47074302.7261794, 1)\n",
                        "(47074303.72554226, 1)\n",
                        "(47074304.724905126, 1)\n",
                        "(47074305.72426799, 1)\n",
                        "(47074306.72363085, 1)\n",
                        "(47074307.72299372, 1)\n",
                        "(47074308.72235658, 1)\n",
                        "(47074309.721719444, 1)\n",
                        "(47074329.744667985, 1)\n",
                        "(47074330.74403085, 1)\n",
                        "(47074331.74339371, 1)\n",
                        "(47074332.742756575, 1)\n",
                        "(47074333.74211944, 1)\n",
                        "(47074334.7414823, 1)\n",
                        "(47074335.74084517, 1)\n",
                        "(47074357.762519434, 1)\n",
                        "(47074358.7618823, 1)\n",
                        "(47074359.76124517, 1)\n",
                        "(47074360.76060803, 1)\n",
                        "(47074361.759970896, 1)\n",
                        "(47074383.781645164, 1)\n",
                        "(47074384.78100803, 1)\n",
                        "(47074385.78037089, 1)\n",
                        "(47074386.779733755, 1)\n",
                        "(47074387.77909662, 1)\n",
                        "(47074388.77845948, 1)\n",
                        "(47074411.79949661, 1)\n",
                        "(47074412.79885948, 1)\n",
                        "(47074413.79822234, 1)\n",
                        "(47074414.797585204, 1)\n",
                        "(47074415.79694807, 1)\n",
                        "(47074438.8179852, 1)\n",
                        "(47074439.81734806, 1)\n",
                        "(47074440.81671093, 1)\n",
                        "(47074441.8160738, 1)\n",
                        "(47074442.81543666, 1)\n",
                        "(47074443.814799525, 1)\n",
                        "(47074465.83647379, 1)\n",
                        "(47074466.83583666, 1)\n",
                        "(47074467.83519952, 1)\n",
                        "(47074468.83456238, 1)\n",
                        "(47074469.83392525, 1)\n",
                        "(47074470.83328811, 1)\n",
                        "(47074471.832650974, 1)\n",
                        "(47074493.85432524, 1)\n",
                        "(47074494.853688106, 1)\n",
                        "(47074495.85305097, 1)\n",
                        "(47074497.8517767, 1)\n",
                        "(47074498.85113956, 1)\n",
                        "(47074499.850502424, 1)\n",
                        "(47074521.87217669, 1)\n",
                        "(47074522.871539555, 1)\n",
                        "(47074523.87090242, 1)\n",
                        "(47074525.869628154, 1)\n",
                        "(47074526.86899102, 1)\n",
                        "(47074527.86835388, 1)\n",
                        "(47074549.89002815, 1)\n",
                        "(47074550.88939101, 1)\n",
                        "(47074551.888753876, 1)\n",
                        "(47074552.88811674, 1)\n",
                        "(47074553.8874796, 1)\n",
                        "(47074554.88684247, 1)\n",
                        "(47074555.88620533, 1)\n",
                        "(47074578.90724246, 1)\n",
                        "(47074579.906605326, 1)\n",
                        "(47074580.90596819, 1)\n",
                        "(47074581.90533105, 1)\n"
                    ]
                }
            ],
            "metadata": {}
        },
        {
            "cell_type": "code",
            "execution_count": 100,
            "source": [
                "X_train_new_arr = np.array(X_train_new)\n",
                "X_train_new_arr.shape"
            ],
            "outputs": [
                {
                    "output_type": "execute_result",
                    "data": {
                        "text/plain": [
                            "(60000, 784, 2)"
                        ]
                    },
                    "metadata": {},
                    "execution_count": 100
                }
            ],
            "metadata": {}
        },
        {
            "cell_type": "code",
            "execution_count": 97,
            "source": [
                "len(X_train)"
            ],
            "outputs": [
                {
                    "output_type": "execute_result",
                    "data": {
                        "text/plain": [
                            "60000"
                        ]
                    },
                    "metadata": {},
                    "execution_count": 97
                }
            ],
            "metadata": {}
        },
        {
            "cell_type": "code",
            "execution_count": null,
            "source": [],
            "outputs": [],
            "metadata": {}
        }
    ],
    "metadata": {
        "orig_nbformat": 4,
        "language_info": {
            "name": "python",
            "version": "3.8.10",
            "mimetype": "text/x-python",
            "codemirror_mode": {
                "name": "ipython",
                "version": 3
            },
            "pygments_lexer": "ipython3",
            "nbconvert_exporter": "python",
            "file_extension": ".py"
        },
        "kernelspec": {
            "name": "python3",
            "display_name": "Python 3.8.10 64-bit ('DataScience': conda)"
        },
        "interpreter": {
            "hash": "49841ab73a559959fe9700a2ac9262e4d00c94198bd455ae7faea303f7be3757"
        }
    },
    "nbformat": 4,
    "nbformat_minor": 2
}