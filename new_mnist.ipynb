{
    "cells": [
        {
            "cell_type": "code",
            "execution_count": 23,
            "source": [
                "import pandas as pd\r\n",
                "import numpy as np\r\n",
                "import matplotlib.pyplot as plt\r\n",
                "import seaborn as sns\r\n",
                "import math\r\n",
                "\r\n",
                "from sklearn import naive_bayes\r\n"
            ],
            "outputs": [],
            "metadata": {}
        },
        {
            "cell_type": "code",
            "execution_count": 24,
            "source": [
                "# (X_train, y_train), (X_test, y_test) = mnist.load_data()\r\n",
                "train_df = pd.read_csv(\"data/mnist_train.csv\")\r\n",
                "test_df = pd.read_csv(\"data/mnist_test.csv\")"
            ],
            "outputs": [],
            "metadata": {}
        },
        {
            "cell_type": "code",
            "execution_count": 25,
            "source": [
                "X_train_2d = train_df.drop(\"label\", axis=1).values.reshape(60000, 28,28)\r\n",
                "X_test_2d = test_df.drop(\"label\", axis=1).values.reshape(10000, 28,28)\r\n",
                "X_train_1d = X_train_2d.reshape(60000, 784)\r\n",
                "X_test_1d = X_test_2d.reshape(10000, 784)\r\n",
                "y_train = train_df[\"label\"]\r\n",
                "y_test = test_df[\"label\"]"
            ],
            "outputs": [],
            "metadata": {}
        },
        {
            "cell_type": "code",
            "execution_count": 26,
            "source": [
                "y_count = np.zeros(10)\r\n",
                "for label in y_train:\r\n",
                "    y_count[label] += 1\r\n",
                "\r\n",
                "print(\"y_counts: \", y_count, y_count.sum(), \"\\n\")\r\n",
                "\r\n",
                "# Probabilities per Label\r\n",
                "label_probs = y_count/y_count.sum()*100\r\n",
                "for i in range(10):\r\n",
                "    print(f\"Probability for Class {i}: {label_probs[i]:.2f} %\")"
            ],
            "outputs": [
                {
                    "output_type": "stream",
                    "name": "stdout",
                    "text": [
                        "y_counts:  [5923. 6742. 5958. 6131. 5842. 5421. 5918. 6265. 5851. 5949.] 60000.0 \n",
                        "\n",
                        "Probability for Class 0: 9.87 %\n",
                        "Probability for Class 1: 11.24 %\n",
                        "Probability for Class 2: 9.93 %\n",
                        "Probability for Class 3: 10.22 %\n",
                        "Probability for Class 4: 9.74 %\n",
                        "Probability for Class 5: 9.04 %\n",
                        "Probability for Class 6: 9.86 %\n",
                        "Probability for Class 7: 10.44 %\n",
                        "Probability for Class 8: 9.75 %\n",
                        "Probability for Class 9: 9.92 %\n"
                    ]
                }
            ],
            "metadata": {}
        },
        {
            "cell_type": "code",
            "execution_count": 27,
            "source": [
                "x_mid = (X_train_2d.shape[1]+1)/2\r\n",
                "y_mid = (X_train_2d.shape[2]+1)/2\r\n",
                "center = np.array((x_mid, y_mid))\r\n",
                "print(center)"
            ],
            "outputs": [
                {
                    "output_type": "stream",
                    "name": "stdout",
                    "text": [
                        "[14.5 14.5]\n"
                    ]
                }
            ],
            "metadata": {}
        },
        {
            "cell_type": "code",
            "execution_count": 28,
            "source": [
                "def get_euclidian_distance(arr, sort=False):\r\n",
                "    \"\"\"\r\n",
                "    Function that transforms colored pixels to euclidian distances\r\n",
                "    \"\"\"\r\n",
                "    euclid_array = []\r\n",
                "\r\n",
                "    for img in arr:\r\n",
                "        x = 1\r\n",
                "        new_img = []\r\n",
                "        for row in img:\r\n",
                "            y = 1\r\n",
                "            # x_colored = 0\r\n",
                "            distance_x = (pow(center[0] - x, 2))\r\n",
                "            # print(\"dist x:\", center[0] - x)\r\n",
                "            for col in row:\r\n",
                "                # y_colored = 0\r\n",
                "                if col > 0:\r\n",
                "                    distance_y = (pow(center[1] - y, 2))\r\n",
                "                    # y_colored = 1\r\n",
                "                    new_img.append(round(math.sqrt(distance_x+distance_y), 2)) #, y_colored))\r\n",
                "                else:\r\n",
                "                    new_img.append(0)\r\n",
                "                y += 1\r\n",
                "            x += 1\r\n",
                "\r\n",
                "        if sort is True:\r\n",
                "            euclid_array.append(np.sort(new_img)[::-1])\r\n",
                "        else:\r\n",
                "            euclid_array.append(new_img)\r\n",
                "    return euclid_array\r\n"
            ],
            "outputs": [],
            "metadata": {}
        },
        {
            "cell_type": "code",
            "execution_count": 29,
            "source": [
                "from sklearn.metrics import classification_report\r\n",
                "\r\n",
                "def train_test_data(X_train, y_train, X_test, y_test):\r\n",
                "    nb = naive_bayes.GaussianNB()\r\n",
                "    nb.fit(X_train, y_train)\r\n",
                "    pred = nb.predict(X_test)\r\n",
                "    print(\"Never predicted values: \", set(y_test) - set(pred), \"\\n\")\r\n",
                "\r\n",
                "    print(classification_report(y_test, pred))"
            ],
            "outputs": [],
            "metadata": {}
        },
        {
            "cell_type": "code",
            "execution_count": 30,
            "source": [
                "import scipy as sp\r\n",
                "\r\n",
                "def shift(cpytest):\r\n",
                "    \"\"\"\r\n",
                "    Returns 2D images\r\n",
                "    \"\"\"\r\n",
                "    n = 5  # Skalierungsvariable\r\n",
                "\r\n",
                "    shift_array = [(n, 0), (-n, 0), (0, n), (0, -n)]\r\n",
                "    x = np.random.randint(1, 4)\r\n",
                "    shift_test = []\r\n",
                "\r\n",
                "    for i in range(cpytest.shape[0]):\r\n",
                "        x = 2\r\n",
                "        shift_test.append(sp.ndimage.interpolation.shift(cpytest[i], [shift_array[x][0], shift_array[x][1]], cval=0,\r\n",
                "                                                       mode='constant', order=0))\r\n",
                "\r\n",
                "    return shift_test\r\n",
                "\r\n"
            ],
            "outputs": [],
            "metadata": {}
        },
        {
            "cell_type": "code",
            "execution_count": 31,
            "source": [
                "from scipy.ndimage import rotate\r\n",
                "\r\n",
                "def rotation(cpytest):\r\n",
                "    \"\"\"\r\n",
                "    Returns 2D images\r\n",
                "    \"\"\"\r\n",
                "    rotated = []\r\n",
                "    for i in range(cpytest.shape[0]):\r\n",
                "        rotated.append(rotate(cpytest[i], 90))\r\n",
                "    return rotated"
            ],
            "outputs": [],
            "metadata": {}
        },
        {
            "cell_type": "markdown",
            "source": [
                "## Default Accuracy"
            ],
            "metadata": {}
        },
        {
            "cell_type": "code",
            "execution_count": 32,
            "source": [
                "# Performance without manipulation\r\n",
                "train_test_data(X_train_1d, y_train, X_test_1d, y_test)\r\n"
            ],
            "outputs": [
                {
                    "output_type": "stream",
                    "name": "stdout",
                    "text": [
                        "Never predicted values:  set() \n",
                        "\n",
                        "              precision    recall  f1-score   support\n",
                        "\n",
                        "           0       0.79      0.89      0.84       980\n",
                        "           1       0.85      0.95      0.90      1135\n",
                        "           2       0.90      0.26      0.40      1032\n",
                        "           3       0.71      0.35      0.47      1010\n",
                        "           4       0.88      0.17      0.29       982\n",
                        "           5       0.55      0.05      0.09       892\n",
                        "           6       0.65      0.93      0.77       958\n",
                        "           7       0.88      0.27      0.42      1028\n",
                        "           8       0.28      0.67      0.40       974\n",
                        "           9       0.37      0.95      0.53      1009\n",
                        "\n",
                        "    accuracy                           0.56     10000\n",
                        "   macro avg       0.69      0.55      0.51     10000\n",
                        "weighted avg       0.69      0.56      0.52     10000\n",
                        "\n"
                    ]
                }
            ],
            "metadata": {}
        },
        {
            "cell_type": "markdown",
            "source": [
                "## Transform Pixel values to Euclidian Distance"
            ],
            "metadata": {}
        },
        {
            "cell_type": "code",
            "execution_count": 33,
            "source": [
                "# Pixel value -> Euclidian distance to center\r\n",
                "\r\n",
                "# Get Euclidian Distances of rotated Images\r\n",
                "train_distances = np.array(get_euclidian_distance(X_train_2d, sort=True))\r\n",
                "test_distances = np.array(get_euclidian_distance(X_test_2d, sort=True))\r\n",
                "\r\n",
                "# Test accuracy\r\n",
                "train_test_data(train_distances, y_train, test_distances, y_test)\r\n"
            ],
            "outputs": [
                {
                    "output_type": "stream",
                    "name": "stdout",
                    "text": [
                        "Never predicted values:  {8, 9, 6} \n",
                        "\n",
                        "              precision    recall  f1-score   support\n",
                        "\n",
                        "           0       0.57      0.16      0.25       980\n",
                        "           1       0.35      0.98      0.52      1135\n",
                        "           2       0.12      0.01      0.02      1032\n",
                        "           3       0.12      0.09      0.10      1010\n",
                        "           4       0.11      0.03      0.04       982\n",
                        "           5       0.14      0.05      0.08       892\n",
                        "           6       0.00      0.00      0.00       958\n",
                        "           7       0.11      0.54      0.18      1028\n",
                        "           8       0.00      0.00      0.00       974\n",
                        "           9       0.00      0.00      0.00      1009\n",
                        "\n",
                        "    accuracy                           0.20     10000\n",
                        "   macro avg       0.15      0.19      0.12     10000\n",
                        "weighted avg       0.15      0.20      0.13     10000\n",
                        "\n"
                    ]
                },
                {
                    "output_type": "stream",
                    "name": "stderr",
                    "text": [
                        "C:\\Users\\Fredo\\miniconda3\\envs\\DataScience\\lib\\site-packages\\sklearn\\metrics\\_classification.py:1248: UndefinedMetricWarning: Precision and F-score are ill-defined and being set to 0.0 in labels with no predicted samples. Use `zero_division` parameter to control this behavior.\n",
                        "  _warn_prf(average, modifier, msg_start, len(result))\n",
                        "C:\\Users\\Fredo\\miniconda3\\envs\\DataScience\\lib\\site-packages\\sklearn\\metrics\\_classification.py:1248: UndefinedMetricWarning: Precision and F-score are ill-defined and being set to 0.0 in labels with no predicted samples. Use `zero_division` parameter to control this behavior.\n",
                        "  _warn_prf(average, modifier, msg_start, len(result))\n",
                        "C:\\Users\\Fredo\\miniconda3\\envs\\DataScience\\lib\\site-packages\\sklearn\\metrics\\_classification.py:1248: UndefinedMetricWarning: Precision and F-score are ill-defined and being set to 0.0 in labels with no predicted samples. Use `zero_division` parameter to control this behavior.\n",
                        "  _warn_prf(average, modifier, msg_start, len(result))\n"
                    ]
                }
            ],
            "metadata": {}
        },
        {
            "cell_type": "markdown",
            "source": [],
            "metadata": {}
        },
        {
            "cell_type": "markdown",
            "source": [
                "## Rotation"
            ],
            "metadata": {}
        },
        {
            "cell_type": "code",
            "execution_count": 34,
            "source": [
                "# Rotate Test Data\r\n",
                "test_rotated = rotation(X_test_2d)\r\n",
                "\r\n",
                "# Get Euclidian Distances of rotated Images\r\n",
                "train_distances = np.array(get_euclidian_distance(X_train_2d, sort=True))\r\n",
                "test_rotated_distances = np.array(get_euclidian_distance(test_rotated, sort=True))\r\n",
                "\r\n",
                "# Test accuracy\r\n",
                "train_test_data(train_distances, y_train, test_rotated_distances, y_test)\r\n"
            ],
            "outputs": [
                {
                    "output_type": "stream",
                    "name": "stdout",
                    "text": [
                        "Never predicted values:  {8, 9, 6} \n",
                        "\n",
                        "              precision    recall  f1-score   support\n",
                        "\n",
                        "           0       0.57      0.16      0.25       980\n",
                        "           1       0.35      0.98      0.52      1135\n",
                        "           2       0.12      0.01      0.02      1032\n",
                        "           3       0.12      0.09      0.10      1010\n",
                        "           4       0.11      0.03      0.04       982\n",
                        "           5       0.14      0.05      0.08       892\n",
                        "           6       0.00      0.00      0.00       958\n",
                        "           7       0.11      0.54      0.18      1028\n",
                        "           8       0.00      0.00      0.00       974\n",
                        "           9       0.00      0.00      0.00      1009\n",
                        "\n",
                        "    accuracy                           0.20     10000\n",
                        "   macro avg       0.15      0.19      0.12     10000\n",
                        "weighted avg       0.15      0.20      0.13     10000\n",
                        "\n"
                    ]
                },
                {
                    "output_type": "stream",
                    "name": "stderr",
                    "text": [
                        "C:\\Users\\Fredo\\miniconda3\\envs\\DataScience\\lib\\site-packages\\sklearn\\metrics\\_classification.py:1248: UndefinedMetricWarning: Precision and F-score are ill-defined and being set to 0.0 in labels with no predicted samples. Use `zero_division` parameter to control this behavior.\n",
                        "  _warn_prf(average, modifier, msg_start, len(result))\n",
                        "C:\\Users\\Fredo\\miniconda3\\envs\\DataScience\\lib\\site-packages\\sklearn\\metrics\\_classification.py:1248: UndefinedMetricWarning: Precision and F-score are ill-defined and being set to 0.0 in labels with no predicted samples. Use `zero_division` parameter to control this behavior.\n",
                        "  _warn_prf(average, modifier, msg_start, len(result))\n",
                        "C:\\Users\\Fredo\\miniconda3\\envs\\DataScience\\lib\\site-packages\\sklearn\\metrics\\_classification.py:1248: UndefinedMetricWarning: Precision and F-score are ill-defined and being set to 0.0 in labels with no predicted samples. Use `zero_division` parameter to control this behavior.\n",
                        "  _warn_prf(average, modifier, msg_start, len(result))\n"
                    ]
                }
            ],
            "metadata": {}
        },
        {
            "cell_type": "code",
            "execution_count": 35,
            "source": [
                "# Rotation Performance NO EUCLIDIAN\r\n",
                "\r\n",
                "# Shift Test Data\r\n",
                "test_rotated = rotation(X_test_2d)\r\n",
                "test_rotated = np.array(test_rotated).reshape(10000, 784)\r\n",
                "\r\n",
                "# Test accuracy\r\n",
                "train_test_data(X_train_1d, y_train, test_rotated, y_test)"
            ],
            "outputs": [
                {
                    "output_type": "stream",
                    "name": "stdout",
                    "text": [
                        "Never predicted values:  set() \n",
                        "\n",
                        "              precision    recall  f1-score   support\n",
                        "\n",
                        "           0       0.28      0.52      0.36       980\n",
                        "           1       0.00      0.00      0.00      1135\n",
                        "           2       0.06      0.08      0.07      1032\n",
                        "           3       0.01      0.01      0.01      1010\n",
                        "           4       0.02      0.03      0.03       982\n",
                        "           5       0.02      0.00      0.00       892\n",
                        "           6       0.01      0.01      0.01       958\n",
                        "           7       0.00      0.00      0.00      1028\n",
                        "           8       0.02      0.03      0.02       974\n",
                        "           9       0.01      0.01      0.01      1009\n",
                        "\n",
                        "    accuracy                           0.07     10000\n",
                        "   macro avg       0.04      0.07      0.05     10000\n",
                        "weighted avg       0.04      0.07      0.05     10000\n",
                        "\n"
                    ]
                }
            ],
            "metadata": {}
        },
        {
            "cell_type": "markdown",
            "source": [
                "## Shift"
            ],
            "metadata": {}
        },
        {
            "cell_type": "code",
            "execution_count": 36,
            "source": [
                "# Shift Test Data\r\n",
                "test_shift = shift(X_test_2d)\r\n",
                "\r\n",
                "# Get Euclidian Distances of rotated Images\r\n",
                "train_distances = get_euclidian_distance(X_train_2d, sort=True)\r\n",
                "test_shift_distances = get_euclidian_distance(test_shift, sort=True)\r\n",
                "\r\n",
                "# Test accuracy\r\n",
                "train_test_data(train_distances, y_train, test_shift_distances, y_test)\r\n"
            ],
            "outputs": [
                {
                    "output_type": "stream",
                    "name": "stdout",
                    "text": [
                        "Never predicted values:  {8, 9, 4, 6} \n",
                        "\n",
                        "              precision    recall  f1-score   support\n",
                        "\n",
                        "           0       0.32      0.04      0.07       980\n",
                        "           1       0.49      0.89      0.63      1135\n",
                        "           2       0.18      0.03      0.05      1032\n",
                        "           3       0.29      0.01      0.03      1010\n",
                        "           4       0.00      0.00      0.00       982\n",
                        "           5       0.09      0.21      0.12       892\n",
                        "           6       0.00      0.00      0.00       958\n",
                        "           7       0.13      0.68      0.22      1028\n",
                        "           8       0.00      0.00      0.00       974\n",
                        "           9       0.00      0.00      0.00      1009\n",
                        "\n",
                        "    accuracy                           0.20     10000\n",
                        "   macro avg       0.15      0.19      0.11     10000\n",
                        "weighted avg       0.15      0.20      0.12     10000\n",
                        "\n"
                    ]
                },
                {
                    "output_type": "stream",
                    "name": "stderr",
                    "text": [
                        "C:\\Users\\Fredo\\miniconda3\\envs\\DataScience\\lib\\site-packages\\sklearn\\metrics\\_classification.py:1248: UndefinedMetricWarning: Precision and F-score are ill-defined and being set to 0.0 in labels with no predicted samples. Use `zero_division` parameter to control this behavior.\n",
                        "  _warn_prf(average, modifier, msg_start, len(result))\n",
                        "C:\\Users\\Fredo\\miniconda3\\envs\\DataScience\\lib\\site-packages\\sklearn\\metrics\\_classification.py:1248: UndefinedMetricWarning: Precision and F-score are ill-defined and being set to 0.0 in labels with no predicted samples. Use `zero_division` parameter to control this behavior.\n",
                        "  _warn_prf(average, modifier, msg_start, len(result))\n",
                        "C:\\Users\\Fredo\\miniconda3\\envs\\DataScience\\lib\\site-packages\\sklearn\\metrics\\_classification.py:1248: UndefinedMetricWarning: Precision and F-score are ill-defined and being set to 0.0 in labels with no predicted samples. Use `zero_division` parameter to control this behavior.\n",
                        "  _warn_prf(average, modifier, msg_start, len(result))\n"
                    ]
                }
            ],
            "metadata": {}
        },
        {
            "cell_type": "code",
            "execution_count": 37,
            "source": [
                "# Shift Performance NO EUCLIDIAN\r\n",
                "\r\n",
                "# Shift Test Data\r\n",
                "test_shift = shift(X_test_2d)\r\n",
                "test_shift = np.array(test_shift).reshape(10000, 784)\r\n",
                "\r\n",
                "# Test accuracy\r\n",
                "train_test_data(X_train_1d, y_train, test_shift, y_test)\r\n"
            ],
            "outputs": [
                {
                    "output_type": "stream",
                    "name": "stdout",
                    "text": [
                        "Never predicted values:  {3} \n",
                        "\n",
                        "              precision    recall  f1-score   support\n",
                        "\n",
                        "           0       0.07      0.04      0.05       980\n",
                        "           1       0.00      0.00      0.00      1135\n",
                        "           2       0.15      0.34      0.20      1032\n",
                        "           3       0.00      0.00      0.00      1010\n",
                        "           4       0.30      0.18      0.23       982\n",
                        "           5       0.25      0.55      0.34       892\n",
                        "           6       0.43      0.32      0.37       958\n",
                        "           7       0.75      0.11      0.19      1028\n",
                        "           8       0.18      0.46      0.25       974\n",
                        "           9       0.36      0.25      0.30      1009\n",
                        "\n",
                        "    accuracy                           0.22     10000\n",
                        "   macro avg       0.25      0.23      0.19     10000\n",
                        "weighted avg       0.25      0.22      0.19     10000\n",
                        "\n"
                    ]
                },
                {
                    "output_type": "stream",
                    "name": "stderr",
                    "text": [
                        "C:\\Users\\Fredo\\miniconda3\\envs\\DataScience\\lib\\site-packages\\sklearn\\metrics\\_classification.py:1248: UndefinedMetricWarning: Precision and F-score are ill-defined and being set to 0.0 in labels with no predicted samples. Use `zero_division` parameter to control this behavior.\n",
                        "  _warn_prf(average, modifier, msg_start, len(result))\n",
                        "C:\\Users\\Fredo\\miniconda3\\envs\\DataScience\\lib\\site-packages\\sklearn\\metrics\\_classification.py:1248: UndefinedMetricWarning: Precision and F-score are ill-defined and being set to 0.0 in labels with no predicted samples. Use `zero_division` parameter to control this behavior.\n",
                        "  _warn_prf(average, modifier, msg_start, len(result))\n",
                        "C:\\Users\\Fredo\\miniconda3\\envs\\DataScience\\lib\\site-packages\\sklearn\\metrics\\_classification.py:1248: UndefinedMetricWarning: Precision and F-score are ill-defined and being set to 0.0 in labels with no predicted samples. Use `zero_division` parameter to control this behavior.\n",
                        "  _warn_prf(average, modifier, msg_start, len(result))\n"
                    ]
                }
            ],
            "metadata": {}
        },
        {
            "cell_type": "code",
            "execution_count": null,
            "source": [],
            "outputs": [],
            "metadata": {}
        },
        {
            "cell_type": "code",
            "execution_count": null,
            "source": [],
            "outputs": [],
            "metadata": {}
        }
    ],
    "metadata": {
        "orig_nbformat": 4,
        "language_info": {
            "name": "python",
            "version": "3.7.10",
            "mimetype": "text/x-python",
            "codemirror_mode": {
                "name": "ipython",
                "version": 3
            },
            "pygments_lexer": "ipython3",
            "nbconvert_exporter": "python",
            "file_extension": ".py"
        },
        "kernelspec": {
            "name": "python3",
            "display_name": "Python 3.7.10 64-bit ('DataScience': conda)"
        },
        "interpreter": {
            "hash": "778ff29dbb7c086863f07577f03c9ae37c5c1802770bd100d673282f392d019a"
        }
    },
    "nbformat": 4,
    "nbformat_minor": 2
}